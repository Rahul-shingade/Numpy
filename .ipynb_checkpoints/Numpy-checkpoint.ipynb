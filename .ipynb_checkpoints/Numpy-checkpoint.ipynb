{
 "cells": [
  {
   "cell_type": "code",
   "execution_count": 1,
   "id": "776d77bd-b8f4-49b1-b227-0652d8fd4620",
   "metadata": {},
   "outputs": [],
   "source": [
    "import numpy as np"
   ]
  },
  {
   "cell_type": "code",
   "execution_count": 2,
   "id": "bc702f1c-e7f2-4be8-9e15-f512d022d96b",
   "metadata": {},
   "outputs": [
    {
     "data": {
      "text/plain": [
       "[1, 2, 0, 3]"
      ]
     },
     "execution_count": 2,
     "metadata": {},
     "output_type": "execute_result"
    }
   ],
   "source": [
    "mylist = [1,2,0,3]\n",
    "mylist"
   ]
  },
  {
   "cell_type": "code",
   "execution_count": 3,
   "id": "7842d9af-89b9-400a-86e8-6d33db5890fb",
   "metadata": {},
   "outputs": [
    {
     "data": {
      "text/plain": [
       "array([1, 2, 0, 3])"
      ]
     },
     "execution_count": 3,
     "metadata": {},
     "output_type": "execute_result"
    }
   ],
   "source": [
    "arr = np.array(mylist)\n",
    "arr"
   ]
  },
  {
   "cell_type": "code",
   "execution_count": 4,
   "id": "65dec370-44bf-431d-b324-b66dccc74499",
   "metadata": {},
   "outputs": [
    {
     "data": {
      "text/plain": [
       "array([0, 2, 4, 6, 8])"
      ]
     },
     "execution_count": 4,
     "metadata": {},
     "output_type": "execute_result"
    }
   ],
   "source": [
    "np.arange(0,10,2)"
   ]
  },
  {
   "cell_type": "code",
   "execution_count": 5,
   "id": "3e25938e-7663-491e-8c2d-e70a6cb53d59",
   "metadata": {},
   "outputs": [
    {
     "data": {
      "text/plain": [
       "array([1, 2, 3, 4, 5, 6, 7, 8, 9])"
      ]
     },
     "execution_count": 5,
     "metadata": {},
     "output_type": "execute_result"
    }
   ],
   "source": [
    "np.arange(1,10)"
   ]
  },
  {
   "cell_type": "code",
   "execution_count": 6,
   "id": "d1edb42d-8bff-49e4-9b29-ecb357d1f9f0",
   "metadata": {},
   "outputs": [
    {
     "data": {
      "text/plain": [
       "array([[0., 0., 0., 0., 0.],\n",
       "       [0., 0., 0., 0., 0.],\n",
       "       [0., 0., 0., 0., 0.],\n",
       "       [0., 0., 0., 0., 0.],\n",
       "       [0., 0., 0., 0., 0.]])"
      ]
     },
     "execution_count": 6,
     "metadata": {},
     "output_type": "execute_result"
    }
   ],
   "source": [
    "np.zeros((5,5))"
   ]
  },
  {
   "cell_type": "code",
   "execution_count": 7,
   "id": "e9ecfabc-d8c8-421d-87d5-3328674d5b39",
   "metadata": {},
   "outputs": [
    {
     "data": {
      "text/plain": [
       "array([[1., 1., 1., 1., 1.],\n",
       "       [1., 1., 1., 1., 1.]])"
      ]
     },
     "execution_count": 7,
     "metadata": {},
     "output_type": "execute_result"
    }
   ],
   "source": [
    "np.ones((2,5))"
   ]
  },
  {
   "cell_type": "code",
   "execution_count": 8,
   "id": "08caa101-22be-4b22-8d58-3cfdebf8c324",
   "metadata": {},
   "outputs": [
    {
     "data": {
      "text/plain": [
       "5"
      ]
     },
     "execution_count": 8,
     "metadata": {},
     "output_type": "execute_result"
    }
   ],
   "source": [
    "np.random.randint(0,10)"
   ]
  },
  {
   "cell_type": "code",
   "execution_count": 9,
   "id": "c7af0962-8cd0-4a02-948c-ced3d93c3f6e",
   "metadata": {},
   "outputs": [
    {
     "data": {
      "text/plain": [
       "array([[4, 4, 6],\n",
       "       [2, 9, 6],\n",
       "       [5, 2, 9]])"
      ]
     },
     "execution_count": 9,
     "metadata": {},
     "output_type": "execute_result"
    }
   ],
   "source": [
    "np.random.randint(1,10,(3,3))"
   ]
  },
  {
   "cell_type": "markdown",
   "id": "adab258a-afd3-436a-b511-18c2a7b3846f",
   "metadata": {},
   "source": [
    "##oprations "
   ]
  },
  {
   "cell_type": "code",
   "execution_count": null,
   "id": "90f1ed5d-2da2-4e70-85f7-8410221eacce",
   "metadata": {},
   "outputs": [],
   "source": [
    "np.random.randint(1,100,10)"
   ]
  },
  {
   "cell_type": "code",
   "execution_count": null,
   "id": "e39c17e4-e876-4909-b7c6-9f1c000793e4",
   "metadata": {},
   "outputs": [],
   "source": [
    "a =np.random.seed(12)\n",
    "b =np.random.randint(1,100,10)\n",
    "b"
   ]
  },
  {
   "cell_type": "code",
   "execution_count": null,
   "id": "2ec7b134-2e5a-40ba-9f43-0c790a6388ae",
   "metadata": {},
   "outputs": [],
   "source": [
    "b.max()"
   ]
  },
  {
   "cell_type": "code",
   "execution_count": null,
   "id": "851e5a52-570c-4c1d-8e04-4047560a9fe5",
   "metadata": {},
   "outputs": [],
   "source": [
    "b.min()"
   ]
  },
  {
   "cell_type": "code",
   "execution_count": null,
   "id": "20f90135-0221-4c20-b528-3928068c913c",
   "metadata": {},
   "outputs": [],
   "source": [
    "b.mean()"
   ]
  },
  {
   "cell_type": "code",
   "execution_count": null,
   "id": "045408fe-360c-4e55-80ba-068690f9eb48",
   "metadata": {},
   "outputs": [],
   "source": [
    "b.reshape(2,5)"
   ]
  },
  {
   "cell_type": "code",
   "execution_count": null,
   "id": "c55b8fc0-ac92-4dfc-a49b-d4e9625617aa",
   "metadata": {},
   "outputs": [],
   "source": [
    "mat =np.arange(0,100).reshape(10,10)\n",
    "mat"
   ]
  },
  {
   "cell_type": "code",
   "execution_count": null,
   "id": "694a1aa9-c195-4fef-9b61-5b086aa4da91",
   "metadata": {},
   "outputs": [],
   "source": [
    "row = 3\n",
    "col = 8"
   ]
  },
  {
   "cell_type": "code",
   "execution_count": null,
   "id": "0a44e67e-1fd9-4430-8b53-0822d7d7bcda",
   "metadata": {},
   "outputs": [],
   "source": [
    "mat[(row,col)]"
   ]
  },
  {
   "cell_type": "code",
   "execution_count": null,
   "id": "63b95080-dee3-4ed3-9eea-a1f50e3e8401",
   "metadata": {},
   "outputs": [],
   "source": [
    "mat[:]"
   ]
  },
  {
   "cell_type": "code",
   "execution_count": null,
   "id": "f1ad8a17-d4b5-4d38-ab43-2178c00e8280",
   "metadata": {},
   "outputs": [],
   "source": [
    "mat[:,col]"
   ]
  },
  {
   "cell_type": "code",
   "execution_count": null,
   "id": "fe336d3f-f78a-4866-80fc-55fed7a155b9",
   "metadata": {},
   "outputs": [],
   "source": [
    "mat[row,:]"
   ]
  },
  {
   "cell_type": "code",
   "execution_count": null,
   "id": "720f05da-5ee0-4a05-aa83-c75dd23bbccb",
   "metadata": {},
   "outputs": [],
   "source": [
    "mat[0:3,0:3]"
   ]
  },
  {
   "cell_type": "code",
   "execution_count": null,
   "id": "113bb7b1-9f83-47c3-95e5-7e093c757e74",
   "metadata": {},
   "outputs": [],
   "source": [
    "mat > 50"
   ]
  },
  {
   "cell_type": "code",
   "execution_count": null,
   "id": "c4a42078-b766-42a8-ba94-22e6fb7454ac",
   "metadata": {},
   "outputs": [],
   "source": [
    "mat [mat>50]"
   ]
  },
  {
   "cell_type": "code",
   "execution_count": null,
   "id": "55c8c8b8-0eb1-4cb4-8e83-17e4031c627e",
   "metadata": {},
   "outputs": [],
   "source": [
    "mat[-1,-2]\n"
   ]
  },
  {
   "cell_type": "code",
   "execution_count": null,
   "id": "065b5570-3d3e-47da-99ce-66d6f517d5a8",
   "metadata": {},
   "outputs": [],
   "source": [
    "mat[-2,-1]"
   ]
  },
  {
   "cell_type": "code",
   "execution_count": null,
   "id": "a01e4741-af89-4e8b-9bd0-0de152bbda41",
   "metadata": {},
   "outputs": [],
   "source": [
    "mat[2:3]"
   ]
  },
  {
   "cell_type": "code",
   "execution_count": null,
   "id": "2d79ad7d-1f7c-4d00-bbac-8eb94037084e",
   "metadata": {},
   "outputs": [],
   "source": [
    "mat"
   ]
  },
  {
   "cell_type": "code",
   "execution_count": null,
   "id": "995c3d71-abac-4107-a1a9-92d97a6596f0",
   "metadata": {},
   "outputs": [],
   "source": [
    "mat[2:9]"
   ]
  },
  {
   "cell_type": "code",
   "execution_count": null,
   "id": "14baf1d0-cc5c-4e53-bf8f-54b1ead10a19",
   "metadata": {},
   "outputs": [],
   "source": [
    "mat1 = np.reshape(mat, (10, 10), order='f')\n",
    "mat1"
   ]
  },
  {
   "cell_type": "code",
   "execution_count": null,
   "id": "e6b75604-5c12-4fe8-9439-043412ef4713",
   "metadata": {},
   "outputs": [],
   "source": [
    "import numpy as np\n",
    "mat2 =np.arange(0,100).reshape(10,10)\n",
    "\n",
    "matha = np.reshape(mat2, (20,5), order='F')\n",
    "matha"
   ]
  },
  {
   "cell_type": "code",
   "execution_count": null,
   "id": "61e2bba1-2820-4f6d-b56a-b4040f229bc2",
   "metadata": {},
   "outputs": [],
   "source": [
    "\n",
    "import numpy as np\n",
    "\n",
    "# Create a 10x10 matrix\n",
    "mat2 = np.arange(0, 100).reshape(10, 10)\n",
    "\n",
    "# Reshape into (20, 5) using column-major order ('F')\n",
    "matha = np.reshape(mat2, (20, 5), order='F')\n",
    "print(matha)"
   ]
  },
  {
   "cell_type": "code",
   "execution_count": null,
   "id": "7dd819c4-4d7d-4a01-8818-28126778bb2f",
   "metadata": {},
   "outputs": [],
   "source": [
    "import numpy as np\n",
    "\n",
    "# Create a 10x10 matrix\n",
    "mat2 = np.arange(0, 100).reshape(10, 10)\n",
    "\n",
    "# Reshape into (20, 5) using row-major order ('C')\n",
    "matha_c = np.reshape(mat2, (20, 5), order='C')\n",
    "print(matha_c)\n"
   ]
  },
  {
   "cell_type": "code",
   "execution_count": null,
   "id": "0975da0f-0f06-44e7-980a-967148eb0f9b",
   "metadata": {},
   "outputs": [],
   "source": [
    "import pandas as pd"
   ]
  },
  {
   "cell_type": "code",
   "execution_count": null,
   "id": "0a924517-6057-401c-8095-89fafa07b2b6",
   "metadata": {},
   "outputs": [],
   "source": [
    "import pandas as pd\n",
    "\n",
    "# Replace 'your_file.csv' with your actual file name or path\n",
    "df = pd.read_csv(r'C:\\Users\\Rahul S\\OneDrive\\Desktop\\Datasets_for_naresh_it_projects/Match.csv')\n",
    "\n",
    "# Display the first few rows of the DataFrame\n",
    "df\n"
   ]
  },
  {
   "cell_type": "code",
   "execution_count": null,
   "id": "6c69d0df-ca6a-4de8-b7b0-6ad5491f30be",
   "metadata": {},
   "outputs": [],
   "source": [
    "df.info()"
   ]
  },
  {
   "cell_type": "code",
   "execution_count": null,
   "id": "daeabfe7-8714-4543-a40e-1918e14fbeee",
   "metadata": {},
   "outputs": [],
   "source": [
    "import matplotlib.pyplot as plt"
   ]
  },
  {
   "cell_type": "code",
   "execution_count": null,
   "id": "2664b583-2134-44e3-acf6-bb24cf35cc7e",
   "metadata": {},
   "outputs": [],
   "source": [
    "%matplotlib inline "
   ]
  },
  {
   "cell_type": "code",
   "execution_count": null,
   "id": "2351582a-e7ca-4017-8015-03bf2f8a9d9c",
   "metadata": {},
   "outputs": [],
   "source": [
    "data_array = df.to_numpy()\n",
    "data_array"
   ]
  },
  {
   "cell_type": "code",
   "execution_count": null,
   "id": "f1211b67-f973-4eec-bf0c-45539e53882c",
   "metadata": {},
   "outputs": [],
   "source": [
    "data_array[:,0]"
   ]
  },
  {
   "cell_type": "code",
   "execution_count": null,
   "id": "fa5d8028-1c1c-4b2c-b3fc-f6ede3363bed",
   "metadata": {},
   "outputs": [],
   "source": [
    "df.tail(15)"
   ]
  },
  {
   "cell_type": "code",
   "execution_count": null,
   "id": "964905e1-d3ba-4d56-9949-c1c4cd92284f",
   "metadata": {},
   "outputs": [],
   "source": [
    "df.head()"
   ]
  },
  {
   "cell_type": "code",
   "execution_count": null,
   "id": "86e963bc-3926-4a21-8c68-c53dfdaa4c86",
   "metadata": {},
   "outputs": [],
   "source": [
    "df['Match_Id'].value_counts() "
   ]
  },
  {
   "cell_type": "code",
   "execution_count": null,
   "id": "3d2a030d-59a3-4e68-a178-83cb89567321",
   "metadata": {},
   "outputs": [],
   "source": [
    "df.hist(bins=50 ,figsize=(10,30))"
   ]
  },
  {
   "cell_type": "code",
   "execution_count": null,
   "id": "017597bd-3c50-4bcb-b6f1-d060a5639cf2",
   "metadata": {},
   "outputs": [],
   "source": [
    "df.describe()"
   ]
  },
  {
   "cell_type": "code",
   "execution_count": null,
   "id": "42ca6b22-e2c1-4112-ab42-976ed9a03abf",
   "metadata": {},
   "outputs": [],
   "source": [
    "df.shape"
   ]
  },
  {
   "cell_type": "code",
   "execution_count": null,
   "id": "6370c23d-66b4-4aa5-93f8-9d64331cc3c0",
   "metadata": {},
   "outputs": [],
   "source": [
    "df.columns"
   ]
  },
  {
   "cell_type": "code",
   "execution_count": null,
   "id": "ba16827a-f259-4483-a0e3-3506f0251301",
   "metadata": {},
   "outputs": [],
   "source": [
    "df[0:5]"
   ]
  },
  {
   "cell_type": "code",
   "execution_count": null,
   "id": "854ab13e-7a71-4277-9933-2e5c20e4f479",
   "metadata": {},
   "outputs": [],
   "source": [
    "df[:]"
   ]
  },
  {
   "cell_type": "code",
   "execution_count": null,
   "id": "556512a2-a153-4e8a-8fe3-54571bf8d716",
   "metadata": {},
   "outputs": [],
   "source": [
    "df[:10]"
   ]
  },
  {
   "cell_type": "code",
   "execution_count": null,
   "id": "3dddc045-8914-41a1-96d4-7d9d2a9e3d45",
   "metadata": {},
   "outputs": [],
   "source": [
    "df[12000:]"
   ]
  },
  {
   "cell_type": "code",
   "execution_count": null,
   "id": "1516ecff-6486-4bea-8de8-604fd6efca5c",
   "metadata": {},
   "outputs": [],
   "source": [
    "df[::-1]"
   ]
  },
  {
   "cell_type": "code",
   "execution_count": null,
   "id": "3d8036cc-3e94-45a9-88cf-7f9bb34e5c73",
   "metadata": {},
   "outputs": [],
   "source": [
    "df[::20]"
   ]
  },
  {
   "cell_type": "code",
   "execution_count": null,
   "id": "7af9bb1f-b015-4f5b-91b1-9e09e6371827",
   "metadata": {},
   "outputs": [],
   "source": [
    "df['Match_Id']"
   ]
  },
  {
   "cell_type": "code",
   "execution_count": null,
   "id": "04339ff7-4f59-490e-aea1-1ee02510f1f4",
   "metadata": {},
   "outputs": [],
   "source": [
    "df[['Match_Date','Match_Id']]"
   ]
  },
  {
   "cell_type": "code",
   "execution_count": null,
   "id": "352e5716-7db5-4d6e-857c-0b4e5eccec55",
   "metadata": {},
   "outputs": [],
   "source": [
    "df[['Match_Date','Match_Id']].head()"
   ]
  },
  {
   "cell_type": "code",
   "execution_count": null,
   "id": "3c0853c7-69d5-4778-b25d-7855d65f9293",
   "metadata": {},
   "outputs": [],
   "source": [
    "df[20:40][['Match_Date','Match_Id']]"
   ]
  },
  {
   "cell_type": "code",
   "execution_count": null,
   "id": "66384292-3929-45ef-a311-6654b657ed1d",
   "metadata": {},
   "outputs": [],
   "source": [
    "df[['Match_Date','Match_Id']][80:120]"
   ]
  },
  {
   "cell_type": "code",
   "execution_count": null,
   "id": "3d4ba6e5-d1c4-4277-98e5-fb0db87b2903",
   "metadata": {},
   "outputs": [],
   "source": [
    "df['winemp1'] = df.Won_By * df.Match_Id\n",
    "df.head()"
   ]
  },
  {
   "cell_type": "code",
   "execution_count": null,
   "id": "e5409c98-3678-44bb-a854-5f49e29eb2fc",
   "metadata": {},
   "outputs": [],
   "source": [
    "df = df.drop('winemp1',axis=1)\n",
    "df"
   ]
  },
  {
   "cell_type": "code",
   "execution_count": null,
   "id": "185e973f-cb99-41c5-9c52-49c7bf07d2d5",
   "metadata": {},
   "outputs": [],
   "source": [
    "df1 = df.Won_By<30\n",
    "df1"
   ]
  },
  {
   "cell_type": "code",
   "execution_count": null,
   "id": "b36ae1fb-a4c0-4b56-a04c-70ffd0eaa402",
   "metadata": {},
   "outputs": [],
   "source": [
    "df[df1][400:500]"
   ]
  },
  {
   "cell_type": "code",
   "execution_count": null,
   "id": "6a73a290-59c7-4949-b1f0-9e46aa1420b2",
   "metadata": {},
   "outputs": [],
   "source": [
    "df[df.Toss_Decision == 'bat']"
   ]
  },
  {
   "cell_type": "code",
   "execution_count": null,
   "id": "cb8d7ca5-07c7-42fc-b9f8-5fd59864defc",
   "metadata": {},
   "outputs": [],
   "source": [
    "df.Venue_Name.unique()"
   ]
  },
  {
   "cell_type": "code",
   "execution_count": null,
   "id": "b7a90d3d-9dbe-48b6-ac43-7b49d9a9780e",
   "metadata": {},
   "outputs": [],
   "source": [
    "import matplotlib.pyplot as plt\n",
    "import seaborn as sns"
   ]
  },
  {
   "cell_type": "code",
   "execution_count": null,
   "id": "419e210b-fe23-4620-92bb-1e7e926b8c0a",
   "metadata": {},
   "outputs": [],
   "source": [
    "%matplotlib inline\n",
    "plt.rcParams['figure.figsize'] =10,5"
   ]
  },
  {
   "cell_type": "code",
   "execution_count": null,
   "id": "0184a161-e872-4b3e-9a18-809b7370d137",
   "metadata": {},
   "outputs": [],
   "source": [
    "import warnings \n",
    "warnings.filterwarnings('ignore')"
   ]
  },
  {
   "cell_type": "code",
   "execution_count": null,
   "id": "753bba87-4a0e-4ff4-b9d5-bf895e956cc8",
   "metadata": {},
   "outputs": [],
   "source": [
    "df.head()"
   ]
  },
  {
   "cell_type": "code",
   "execution_count": null,
   "id": "c74692a7-db9a-4398-a7e3-dbd70e1511a8",
   "metadata": {},
   "outputs": [],
   "source": [
    "vis1 = sns.distplot(df[\"Match_Id\"])"
   ]
  },
  {
   "cell_type": "code",
   "execution_count": null,
   "id": "e72e29e5-47f1-4b46-a2e0-3236f464f912",
   "metadata": {},
   "outputs": [],
   "source": [
    "vis1 = sns.distplot(df[\"Match_Id\"], bins=20)"
   ]
  },
  {
   "cell_type": "code",
   "execution_count": null,
   "id": "be6ccc07-9cec-463f-8e4f-346bb702ee8e",
   "metadata": {},
   "outputs": [],
   "source": [
    "vis1 = sns.boxplot(data =df,x=\"Match_Id\",y=\"Toss_Decision\")"
   ]
  },
  {
   "cell_type": "code",
   "execution_count": null,
   "id": "11380dfa-72d3-4693-bd33-c0c4f3763a01",
   "metadata": {},
   "outputs": [],
   "source": []
  }
 ],
 "metadata": {
  "kernelspec": {
   "display_name": "Python 3 (ipykernel)",
   "language": "python",
   "name": "python3"
  },
  "language_info": {
   "codemirror_mode": {
    "name": "ipython",
    "version": 3
   },
   "file_extension": ".py",
   "mimetype": "text/x-python",
   "name": "python",
   "nbconvert_exporter": "python",
   "pygments_lexer": "ipython3",
   "version": "3.12.4"
  }
 },
 "nbformat": 4,
 "nbformat_minor": 5
}
